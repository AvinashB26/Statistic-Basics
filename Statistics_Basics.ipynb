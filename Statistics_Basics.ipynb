{
  "nbformat": 4,
  "nbformat_minor": 0,
  "metadata": {
    "colab": {
      "provenance": []
    },
    "kernelspec": {
      "name": "python3",
      "display_name": "Python 3"
    },
    "language_info": {
      "name": "python"
    }
  },
  "cells": [
    {
      "cell_type": "markdown",
      "source": [
        "#Theory Questions:\n",
        "\n",
        "1. What is statistics, and why is it important?\n",
        "\n",
        "**Ans:**\n",
        "Statistics is the science of collecting, organizing, analyzing, interpreting and presenting data.\n",
        "It is important because it provides tools for making informed decisions, drawing conclusions, and understanding patterns in data.\n",
        "\n",
        "2. What are the two main types of statistics?\n",
        "\n",
        "**Ans:**\n",
        "The two main types of statistics are descriptive statistics and inferential statistics.\n",
        "\n",
        "3. What are descriptive statistics?\n",
        "\n",
        "**Ans:**\n",
        "Descriptive statistics are used to summarize and describe the main features of a dataset\n",
        "\n",
        "4. What is inferential statistics?\n",
        "\n",
        "**Ans:**\n",
        "Inferential statistics are used to make predictions or generalizations about a population based on a sample of data.\n",
        "\n",
        "5. What is sampling in statistics?\n",
        "\n",
        "**Ans:**\n",
        "Sampling is the process of selecting a subset of individuals from a larger population to make inferences about the entire population.\n",
        "\n",
        "6. What are the different types of sampling methods?\n",
        "\n",
        "**Ans:**\n",
        "The document mentions random sampling and stratified sampling as types of sampling methods.\n",
        "\n",
        "7. What is the difference between random and non-random sampling?\n",
        "\n",
        "**Ans:**\n",
        "In random sampling, each member of the population has an equal chance of being selected, while in non-random sampling, the selection is not based on chance.\n",
        "\n",
        "8. Define and give examples of qualitative and quantitative data.\n",
        "\n",
        "**Ans:**\n",
        "> Qualitative data is descriptive and involves characteristics that cannot be easily measured numerically (e.g., colors, opinions).\n",
        "\n",
        "> Quantitative data is numerical and can be measured (e.g., height, weight)\n",
        "\n",
        "9. What are the different types of data in statistics?\n",
        "\n",
        "**Ans:**The document mentions nominal, ordinal, interval, and ratio types of data.\n",
        "\n",
        "10. Explain nominal, ordinal, interval, and ratio levels of measurement.\n",
        "\n",
        "**Ans:**\n",
        ">Nominal data consists of categories with no inherent order (e.g., colors).\n",
        "\n",
        ">Ordinal data involves categories with a meaningful order (e.g., education levels).\n",
        "\n",
        ">Interval data has ordered categories with equal intervals between values, but no true zero point (e.g., temperature in Celsius).\n",
        "\n",
        ">Ratio data is similar to interval data but has a true zero point (e.g., height).\n",
        "\n",
        "11. What is the measure of central tendency?\n",
        "\n",
        "**Ans:**\n",
        "The measure of central tendency is a way to describe the center or average of a dataset.\n",
        "\n",
        "12. Define mean, median, and mode.\n",
        "**Ans:**\n",
        "Mean is the average of all values in a dataset.\n",
        "\n",
        "Median is the middle value when the data is ordered.\n",
        "\n",
        "Mode is the value that appears most frequently.\n",
        "\n",
        "13. What is the significance of the measure of central tendency?\n",
        "\n",
        "**Ans:**\n",
        "The measure of central tendency helps to summarize and understand the typical value in a dataset.\n",
        "\n",
        "14. What is variance, and how is it calculated?\n",
        "\n",
        "**Ans:**\n",
        "Variance measures how spread out the data points are from the mean.\n",
        "It is calculated by finding the average of the squared differences between each data point and the mean.\n",
        "\n",
        "15. What is standard deviation, and why is it important?\n",
        "\n",
        "**Ans:**\n",
        "Standard deviation is the square root of the variance.\n",
        "It is important because it provides a measure of the typical deviation of data points from the mean, giving a more interpretable measure of spread than variance.\n",
        "\n",
        "16. Define and explain the term range in statistics.\n",
        "\n",
        "**Ans:**The range is the difference between the maximum and minimum values in a dataset.\n",
        "\n",
        "17. What is the difference between variance and standard deviation?\n",
        "\n",
        "**Ans:**Standard deviation is the square root of the variance. Variance is the average of the squared differences from the mean, while standard deviation is in the same units as the original data.\n",
        "\n",
        "18. What is skewness in a dataset?\n",
        "\n",
        "**Ans:**\n",
        "Skewness is a measure of the asymmetry of the distribution of data.\n",
        "\n",
        "19. What does it mean if a dataset is positively or negatively skewed?\n",
        "\n",
        "**Ans:**\n",
        ">A positively skewed dataset has a longer tail to the right, meaning there are more lower values and some extreme higher values.\n",
        "\n",
        ">A negatively skewed dataset has a longer tail to the left, meaning there are more higher values and some extreme lower values.\n",
        "\n",
        "20. Define and explain kurtosis.\n",
        "\n",
        "**Ans:** Kurtosis measures the \"tailedness\" or the peakedness of the distribution of a dataset.\n",
        "\n",
        "21. What is the purpose of covariance?\n",
        "\n",
        "**Ans:**\n",
        "Covariance measures the degree to which two variables change together.\n",
        "\n",
        "22. What does correlation measure in statistics?\n",
        "\n",
        "Correlation measures the strength and direction of the linear relationship between two variables.\n",
        "\n",
        "23. What is the difference between covariance and correlation?\n",
        "\n",
        "**Ans:**\n",
        "Covariance measures the degree to which two variables change together, while correlation measures the strength and direction of the linear relationship between them. Correlation is standardized, making it easier to compare across different datasets.\n",
        "\n",
        "24. What are some real-world applications of statistics?\n",
        "\n",
        "The document does not explicitly list real-world applications. However, statistics is used in various fields such as healthcare, finance, marketing, and social sciences for data analysis, decision-making, and research."
      ],
      "metadata": {
        "id": "cpBg8S3zqELu"
      }
    },
    {
      "cell_type": "markdown",
      "source": [
        "#Practical Question:"
      ],
      "metadata": {
        "id": "e4MLviyBzMoU"
      }
    },
    {
      "cell_type": "code",
      "source": [
        "#1. How do you calculate the mean, median, and mode of a dataset?\n",
        "\n",
        "#Sol:\n",
        "import numpy as np\n",
        "from scipy import stats\n",
        "import statistics\n",
        "Data = [1,2,3,4,5,6,7,8,9]\n",
        "Mean = np.mean(Data)\n",
        "Mode = statistics.mode(Data)\n",
        "Median = np.median(Data)\n",
        "\n",
        "print(\"Mean:\",Mean)\n",
        "print(\"Mode:\",Mode)\n",
        "print(\"Median:\",Median)\n"
      ],
      "metadata": {
        "colab": {
          "base_uri": "https://localhost:8080/"
        },
        "id": "orWgwt2BzNpr",
        "outputId": "7f57a8d3-8236-470e-c314-704252fdf846"
      },
      "execution_count": 7,
      "outputs": [
        {
          "output_type": "stream",
          "name": "stdout",
          "text": [
            "Mean: 5.0\n",
            "Mode: 1\n",
            "Median: 5.0\n"
          ]
        }
      ]
    },
    {
      "cell_type": "code",
      "source": [
        "#2. Write a Python program to compute the variance and standard deviation of a dataset.\n",
        "\n",
        "#Sol:\n",
        "import numpy as np\n",
        "data = [1, 2, 3, 4, 5]\n",
        "variance = np.var(data)\n",
        "std_dev = np.std(data)\n",
        "print(f\"Variance: {variance}\")\n",
        "print(f\"Standard Deviation: {std_dev}\")"
      ],
      "metadata": {
        "colab": {
          "base_uri": "https://localhost:8080/"
        },
        "id": "6z3icZyJ1lY8",
        "outputId": "965bc1ec-d4b2-47db-f117-ec84bc6e4b7e"
      },
      "execution_count": 13,
      "outputs": [
        {
          "output_type": "stream",
          "name": "stdout",
          "text": [
            "Variance: 2.0\n",
            "Standard Deviation: 1.4142135623730951\n"
          ]
        }
      ]
    },
    {
      "cell_type": "code",
      "source": [
        "#3. Create a dataset and classify it into nominal, ordinal, interval, and ratio types.\n",
        "\n",
        "#Sol:\n",
        "import pandas as pd\n",
        "\n",
        "data = {\n",
        "    \"Student ID\": [1, 2, 3, 4, 5],\n",
        "    \"Gender\": [\"Male\", \"Female\", \"Male\", \"Female\", \"Other\"],\n",
        "    \"Course Rank\": [1, 3, 2, 1, 4],\n",
        "    \"Temperature (°C)\": [25, 28, 22, 23, 30],\n",
        "    \"Height (cm)\": [175, 160, 180, 170, 165]\n",
        "}\n",
        "df = pd.DataFrame(data)\n",
        "print(df)\n"
      ],
      "metadata": {
        "colab": {
          "base_uri": "https://localhost:8080/"
        },
        "id": "nQYh8mf-2tuS",
        "outputId": "60024c2c-cbbb-4006-9e8e-3074292ca9eb"
      },
      "execution_count": 14,
      "outputs": [
        {
          "output_type": "stream",
          "name": "stdout",
          "text": [
            "   Student ID  Gender  Course Rank  Temperature (°C)  Height (cm)\n",
            "0           1    Male            1                25          175\n",
            "1           2  Female            3                28          160\n",
            "2           3    Male            2                22          180\n",
            "3           4  Female            1                23          170\n",
            "4           5   Other            4                30          165\n"
          ]
        }
      ]
    },
    {
      "cell_type": "markdown",
      "source": [
        "Classification\n",
        "Nominal: Gender\n",
        "\n",
        "Gender is a category with no inherent order. It's just a label to describe the students (Male, Female, Other).\n",
        "\n",
        "Ordinal: Course Rank\n",
        "\n",
        "Course Rank represents a hierarchy or order (1 being the top rank). However, the difference between ranks is not uniform (e.g., the difference between Rank 1 and Rank 2 might not be the same as between Rank 3 and Rank 4).\n",
        "\n",
        "Interval: Temperature (°C)\n",
        "\n",
        "Temperature is an ordered variable where differences are consistent (e.g., the difference between 20°C and 30°C is the same as between 30°C and 40°C). However, it lacks a true zero point because 0°C does not mean the absence of temperature.\n",
        "\n",
        "Ratio: Height (cm)\n",
        "\n",
        "Height is a continuous measurement with a true zero point. It also allows for meaningful ratios (e.g., someone who is 180 cm tall is twice as tall as someone who is 90 cm tall).\n",
        "\n"
      ],
      "metadata": {
        "id": "lhQQsvcu3vYn"
      }
    },
    {
      "cell_type": "code",
      "source": [
        "#4. Implement sampling techniques like random sampling and stratified sampling.\n",
        "\n",
        "#Sol:\n",
        "import random\n",
        "\n",
        "def random_sampling(population, sample_size):\n",
        "    return random.sample(population, sample_size)\n",
        "\n",
        "def stratified_sampling(population, strata_sizes):\n",
        "    stratified_sample = {}\n",
        "    for stratum, individuals in population.items():\n",
        "        stratified_sample[stratum] = random.sample(individuals, strata_sizes[stratum])\n",
        "    return stratified_sample\n",
        "population = list(range(100))\n",
        "random_sample = random_sampling(population, 10)\n",
        "print(f\"Random Sample: {random_sample}\")\n",
        "\n",
        "population = {\n",
        "    \"A\": list(range(0, 50)),\n",
        "    \"B\": list(range(50, 100))\n",
        "}\n",
        "strata_sizes = {\"A\": 5, \"B\": 5}\n",
        "stratified_sample = stratified_sampling(population, strata_sizes)\n",
        "print(f\"Stratified Sample: {stratified_sample}\")"
      ],
      "metadata": {
        "colab": {
          "base_uri": "https://localhost:8080/"
        },
        "id": "n4oq2EWB4BH-",
        "outputId": "c397da23-c782-44d1-d5da-3b8e2dbf45e9"
      },
      "execution_count": 15,
      "outputs": [
        {
          "output_type": "stream",
          "name": "stdout",
          "text": [
            "Random Sample: [27, 1, 99, 98, 2, 95, 34, 30, 86, 11]\n",
            "Stratified Sample: {'A': [44, 35, 41, 43, 49], 'B': [91, 59, 97, 83, 82]}\n"
          ]
        }
      ]
    },
    {
      "cell_type": "code",
      "source": [
        "#5. Write a Python function to calculate the range of a dataset.\n",
        "\n",
        "#Sol:\n",
        "def calculate_range(data):\n",
        "    if not data:\n",
        "        return None  # Handle empty dataset\n",
        "    return max(data) - min(data)\n",
        "\n",
        "# Example usage:\n",
        "dataset = [10, 20, 30, 40, 50]\n",
        "range_value = calculate_range(dataset)\n",
        "print(f\"Range: {range_value}\")"
      ],
      "metadata": {
        "colab": {
          "base_uri": "https://localhost:8080/"
        },
        "id": "8VC-WKE-48IH",
        "outputId": "ed0ffaf5-97a2-49b3-f2c5-8c0beec4bd54"
      },
      "execution_count": 16,
      "outputs": [
        {
          "output_type": "stream",
          "name": "stdout",
          "text": [
            "Range: 40\n"
          ]
        }
      ]
    },
    {
      "cell_type": "code",
      "source": [
        "#6. Create a dataset and plot its histogram to visualize skewness.\n",
        "\n",
        "#Sol:\n",
        "import numpy as np\n",
        "import matplotlib.pyplot as plt\n",
        "data = np.random.exponential(scale=2.0, size=100)\n",
        "plt.hist(data, bins=10, color='skyblue', edgecolor='black')\n",
        "plt.title('Histogram of Right-Skewed Data')\n",
        "plt.xlabel('Value')\n",
        "plt.ylabel('Frequency')\n",
        "plt.show()"
      ],
      "metadata": {
        "colab": {
          "base_uri": "https://localhost:8080/",
          "height": 472
        },
        "id": "mavgTxPY5ZDX",
        "outputId": "a2076cc0-78b0-49ee-f6e2-0f8ce5281861"
      },
      "execution_count": 18,
      "outputs": [
        {
          "output_type": "display_data",
          "data": {
            "text/plain": [
              "<Figure size 640x480 with 1 Axes>"
            ],
            "image/png": "[encoded data removed]"
          },
          "metadata": {}
        }
      ]
    },
    {
      "cell_type": "code",
      "source": [
        "#7. Calculate skewness and kurtosis of a dataset using Python libraries.\n",
        "#Sol:\n",
        "from scipy.stats import skew, kurtosis\n",
        "import numpy as np\n",
        "\n",
        "# Create a sample dataset\n",
        "data = np.array([1, 2, 3, 4, 5, 5, 5, 6, 7, 8, 9])\n",
        "\n",
        "# Calculate skewness and kurtosis\n",
        "skewness_value = skew(data)\n",
        "kurtosis_value = kurtosis(data)\n",
        "\n",
        "print(f\"Skewness: {skewness_value}\")\n",
        "print(f\"Kurtosis: {kurtosis_value}\")"
      ],
      "metadata": {
        "colab": {
          "base_uri": "https://localhost:8080/"
        },
        "id": "3j5AyecM6Q9R",
        "outputId": "e219d3d2-7d1f-47f1-d89b-09c99912497c"
      },
      "execution_count": 19,
      "outputs": [
        {
          "output_type": "stream",
          "name": "stdout",
          "text": [
            "Skewness: 0.0\n",
            "Kurtosis: -0.8366666666666664\n"
          ]
        }
      ]
    },
    {
      "cell_type": "code",
      "source": [
        "#8. Generate a dataset and demonstrate positive and negative skewness.\n",
        "\n",
        "#Sol:\n",
        "import numpy as np\n",
        "import matplotlib.pyplot as plt\n",
        "from scipy.stats import skewnorm\n",
        "\n",
        "# Positive Skewness\n",
        "positive_skew_data = np.random.exponential(scale=1.0, size=100)\n",
        "\n",
        "# Negative Skewness\n",
        "a = -4\n",
        "negative_skew_data = skewnorm.rvs(a, size=100)\n",
        "\n",
        "# Plotting\n",
        "plt.figure(figsize=(10, 5))\n",
        "\n",
        "plt.subplot(1, 2, 1)\n",
        "plt.hist(positive_skew_data, bins=10, color='blue', edgecolor='black')\n",
        "plt.title('Positive Skewness')\n",
        "\n",
        "plt.subplot(1, 2, 2)\n",
        "plt.hist(negative_skew_data, bins=10, color='red', edgecolor='black')\n",
        "plt.title('Negative Skewness')\n",
        "\n",
        "plt.show()"
      ],
      "metadata": {
        "colab": {
          "base_uri": "https://localhost:8080/",
          "height": 468
        },
        "id": "PXQUU8qe6Y-x",
        "outputId": "79795dda-dd42-444b-e213-183cc67789b8"
      },
      "execution_count": 21,
      "outputs": [
        {
          "output_type": "display_data",
          "data": {
            "text/plain": [
              "<Figure size 1000x500 with 2 Axes>"
            ],
            "image/png": "[encoded data removed]"
          },
          "metadata": {}
        }
      ]
    },
    {
      "cell_type": "code",
      "source": [
        "#9. Write a Python script to calculate covariance between two datasets.\n",
        "\n",
        "#Sol:\n",
        "import numpy as np\n",
        "\n",
        "def calculate_covariance(data1, data2):\n",
        "\n",
        "    if len(data1) != len(data2):\n",
        "        raise ValueError(\"Datasets must have the same length\")\n",
        "\n",
        "    mean_data1 = np.mean(data1)\n",
        "    mean_data2 = np.mean(data2)\n",
        "\n",
        "    covariance = np.mean((data1 - mean_data1) * (data2 - mean_data2))\n",
        "    return covariance\n",
        "\n",
        "# Example usage:\n",
        "dataset1 = np.array([1, 2, 3, 4, 5])\n",
        "dataset2 = np.array([2, 3, 5, 6, 5])\n",
        "covariance_value = calculate_covariance(dataset1, dataset2)\n",
        "print(f\"Covariance: {covariance_value}\")"
      ],
      "metadata": {
        "colab": {
          "base_uri": "https://localhost:8080/"
        },
        "id": "HhWnnU957DNj",
        "outputId": "00aa11d6-eeb3-44c3-d970-695bb7e1b0e8"
      },
      "execution_count": 34,
      "outputs": [
        {
          "output_type": "stream",
          "name": "stdout",
          "text": [
            "Covariance: 1.8\n"
          ]
        }
      ]
    },
    {
      "cell_type": "code",
      "source": [
        "#10. Write a Python script to calculate the correlation coefficient between two datasets.\n",
        "\n",
        "#Sol:\n",
        "import numpy as np\n",
        "\n",
        "def calculate_correlation_coefficient(data1, data2):\n",
        "\n",
        "    if len(data1) != len(data2):\n",
        "        raise ValueError(\"Datasets must have the same length\")\n",
        "\n",
        "    correlation_coefficient = np.corrcoef(data1, data2)[0, 1]\n",
        "    return correlation_coefficient\n",
        "\n",
        "# Example usage:\n",
        "dataset1 = np.array([1, 2, 3, 4, 5])\n",
        "dataset2 = np.array([2, 3, 5, 6, 7])\n",
        "correlation_value = calculate_correlation_coefficient(dataset1, dataset2)\n",
        "print(f\"Correlation Coefficient: {correlation_value}\")"
      ],
      "metadata": {
        "colab": {
          "base_uri": "https://localhost:8080/"
        },
        "id": "Cm0J-LF08X4M",
        "outputId": "965bd5a6-f24b-4c2d-f0c2-18eb6430921f"
      },
      "execution_count": 35,
      "outputs": [
        {
          "output_type": "stream",
          "name": "stdout",
          "text": [
            "Correlation Coefficient: 0.9912407071619304\n"
          ]
        }
      ]
    },
    {
      "cell_type": "code",
      "source": [
        "#11. Create a scatter plot to visualize the relationship between two variables.\n",
        "\n",
        "#Sol:\n",
        "import matplotlib.pyplot as plt\n",
        "import numpy as np\n",
        "\n",
        "# Create a scatter plot\n",
        "x = np.array([1, 2, 3, 4, 5])\n",
        "y = np.array([2, 4, 6, 8, 10])\n",
        "plt.scatter(x, y)\n",
        "plt.xlabel('X-axis')\n",
        "plt.ylabel('Y-axis')\n",
        "plt.title('Scatter Plot')\n",
        "plt.show()"
      ],
      "metadata": {
        "colab": {
          "base_uri": "https://localhost:8080/",
          "height": 472
        },
        "id": "GoVZ-4fD8nZt",
        "outputId": "f9e2cc88-3cb9-477a-cbd8-124977148ba5"
      },
      "execution_count": 36,
      "outputs": [
        {
          "output_type": "display_data",
          "data": {
            "text/plain": [
              "<Figure size 640x480 with 1 Axes>"
            ],
            "image/png": "[encoded data removed]"
          },
          "metadata": {}
        }
      ]
    },
    {
      "cell_type": "code",
      "source": [
        "#12. Implement and compare simple random sampling and systematic sampling.\n",
        "\n",
        "#Sol:\n",
        "import random\n",
        "\n",
        "def simple_random_sampling(population, sample_size):\n",
        "\n",
        "    return random.sample(population, sample_size)\n",
        "\n",
        "def systematic_sampling(population, interval):\n",
        "\n",
        "    if not population or interval <= 0:\n",
        "        return []\n",
        "\n",
        "    start_index = random.randint(0, interval - 1)\n",
        "    systematic_sample = population[start_index::interval]\n",
        "    return systematic_sample\n",
        "\n",
        "\n",
        "population = list(range(100))\n",
        "sample_size = 10\n",
        "interval = 7\n",
        "\n",
        "random_sample = simple_random_sampling(population, sample_size)\n",
        "systematic_sample = systematic_sampling(population, interval)\n",
        "\n",
        "print(f\"Simple Random Sample: {random_sample}\")\n",
        "print(f\"Systematic Sample: {systematic_sample}\")"
      ],
      "metadata": {
        "colab": {
          "base_uri": "https://localhost:8080/"
        },
        "id": "7z0wUsWm80ex",
        "outputId": "0e81d879-917f-4f53-e673-39b86486fdbc"
      },
      "execution_count": 37,
      "outputs": [
        {
          "output_type": "stream",
          "name": "stdout",
          "text": [
            "Simple Random Sample: [7, 32, 17, 18, 3, 44, 33, 63, 99, 49]\n",
            "Systematic Sample: [2, 9, 16, 23, 30, 37, 44, 51, 58, 65, 72, 79, 86, 93]\n"
          ]
        }
      ]
    },
    {
      "cell_type": "code",
      "source": [
        "#13. Calculate the mean, median, and mode of grouped data.\n",
        "\n",
        "#Sol:\n",
        "def mean_grouped_data(classes, frequencies):\n",
        "    \"\"\"Calculates mean of grouped data.\"\"\"\n",
        "    return sum(c * f for c, f in zip(classes, frequencies)) / sum(frequencies) if sum(frequencies) else 0\n",
        "\n",
        "def median_grouped_data(classes, frequencies, interval):\n",
        "    \"\"\"Calculates median of grouped data.\"\"\"\n",
        "    n = sum(frequencies)\n",
        "    n_2 = n / 2\n",
        "    cf = 0\n",
        "    for i, f in enumerate(frequencies):\n",
        "        cf += f\n",
        "        if cf >= n_2:\n",
        "            l = classes[i]\n",
        "            cf -= f\n",
        "            return l + ((n_2 - cf) / f) * interval\n",
        "    return None\n",
        "\n",
        "def mode_grouped_data(classes, frequencies, interval):\n",
        "    \"\"\"Calculates mode of grouped data.\"\"\"\n",
        "    max_f = max(frequencies)\n",
        "    i = frequencies.index(max_f)\n",
        "    l = classes[i]\n",
        "    f1 = frequencies[i]\n",
        "    f0 = frequencies[i - 1] if i > 0 else 0\n",
        "    f2 = frequencies[i + 1] if i < len(frequencies) - 1 else 0\n",
        "    return l + ((f1 - f0) / ((2 * f1) - f0 - f2)) * interval\n",
        "\n",
        "# Example:\n",
        "classes = [0, 10, 20, 30, 40]\n",
        "frequencies = [12, 18, 25, 20, 15]\n",
        "interval = 10\n",
        "\n",
        "print(f\"Mean: {mean_grouped_data(classes, frequencies)}\")\n",
        "print(f\"Median: {median_grouped_data(classes, frequencies, interval)}\")\n",
        "print(f\"Mode: {mode_grouped_data(classes, frequencies, interval)}\")"
      ],
      "metadata": {
        "colab": {
          "base_uri": "https://localhost:8080/"
        },
        "id": "dxU8EGT79Pz2",
        "outputId": "e4d5f4d8-b6e5-434f-9057-97d5105821ff"
      },
      "execution_count": 38,
      "outputs": [
        {
          "output_type": "stream",
          "name": "stdout",
          "text": [
            "Mean: 20.88888888888889\n",
            "Median: 26.0\n",
            "Mode: 25.833333333333336\n"
          ]
        }
      ]
    },
    {
      "cell_type": "code",
      "source": [
        "#14. Simulate data using Python and calculate its central tendency and dispersion.\n",
        "#Sol:\n",
        "import numpy as np\n",
        "from scipy.stats import mode\n",
        "\n",
        "data = np.random.normal(50, 10, 100)  # Simulate data\n",
        "\n",
        "print(f\"Mean: {np.mean(data)}\")\n",
        "print(f\"Median: {np.median(data)}\")\n",
        "print(f\"Mode: {mode(data).mode}\")\n",
        "print(f\"Var: {np.var(data)}\")\n",
        "print(f\"Std: {np.std(data)}\")\n",
        "print(f\"Range: {np.max(data) - np.min(data)}\")\n"
      ],
      "metadata": {
        "colab": {
          "base_uri": "https://localhost:8080/"
        },
        "id": "rMyHdwnr-JLp",
        "outputId": "0f947f19-88e5-43a5-b63e-412d245922e6"
      },
      "execution_count": 42,
      "outputs": [
        {
          "output_type": "stream",
          "name": "stdout",
          "text": [
            "Mean: 49.852079514536435\n",
            "Median: 49.720754910244025\n",
            "Mode: 28.068761611887666\n",
            "Var: 76.30568149987096\n",
            "Std: 8.735312329840928\n",
            "Range: 40.29326672521765\n"
          ]
        }
      ]
    },
    {
      "cell_type": "code",
      "source": [
        "#15. Use NumPy or pandas to summarize a dataset's descriptive statistics.\n",
        "#Sol:\n",
        "import numpy as np\n",
        "import pandas as pd\n",
        "\n",
        "# Create a sample dataset\n",
        "data = {'Age': [25, 30, 22, 35, 28, 40, 48, 33],\n",
        "        'Salary': [50000, 60000, 45000, 70000, 55000, 80000, 90000, 65000],\n",
        "        'City': ['A', 'B', 'A', 'C', 'B', 'C', 'A', 'B']}\n",
        "df = pd.DataFrame(data)\n",
        "\n",
        "# Summarize descriptive statistics using pandas\n",
        "print(\"Pandas describe():\")\n",
        "print(df.describe())\n",
        "\n",
        "# Summarize descriptive statistics using NumPy (for numerical columns)\n",
        "print(\"\\nNumPy statistics for Age:\")\n",
        "print(\"Mean:\", np.mean(df['Age']))\n",
        "print(\"Standard Deviation:\", np.std(df['Age']))\n",
        "print(\"Min:\", np.min(df['Age']))\n",
        "print(\"Max:\", np.max(df['Age']))\n",
        "print(\"Median:\", np.median(df['Age']))"
      ],
      "metadata": {
        "colab": {
          "base_uri": "https://localhost:8080/"
        },
        "id": "lwMtznO5_e4t",
        "outputId": "bf85053a-d872-485b-b119-a6db6c1e13ba"
      },
      "execution_count": 43,
      "outputs": [
        {
          "output_type": "stream",
          "name": "stdout",
          "text": [
            "Pandas describe():\n",
            "             Age        Salary\n",
            "count   8.000000      8.000000\n",
            "mean   32.625000  64375.000000\n",
            "std     8.416608  15221.577729\n",
            "min    22.000000  45000.000000\n",
            "25%    27.250000  53750.000000\n",
            "50%    31.500000  62500.000000\n",
            "75%    36.250000  72500.000000\n",
            "max    48.000000  90000.000000\n",
            "\n",
            "NumPy statistics for Age:\n",
            "Mean: 32.625\n",
            "Standard Deviation: 7.873015622999868\n",
            "Min: 22\n",
            "Max: 48\n",
            "Median: 31.5\n"
          ]
        }
      ]
    },
    {
      "cell_type": "code",
      "source": [
        "#16.  Plot a boxplot to understand the spread and identify outliers.\n",
        "#Sol:\n",
        "import matplotlib.pyplot as plt\n",
        "import seaborn as sns\n",
        "data = {'Salary': [50000, 60000, 45000, 70000, 55000, 80000, 90000, 165000]\n",
        "        }\n",
        "df = pd.DataFrame(data)\n",
        "# Create the boxplot\n",
        "plt.figure(figsize=(8, 6))\n",
        "sns.boxplot(x=df['Salary'])\n",
        "plt.title('Boxplot of Salary')\n",
        "plt.xlabel('Salary')\n",
        "plt.show()"
      ],
      "metadata": {
        "colab": {
          "base_uri": "https://localhost:8080/",
          "height": 564
        },
        "id": "5fGMa6QmAmmN",
        "outputId": "97dc4615-6c44-4004-e073-77147eaf4397"
      },
      "execution_count": 48,
      "outputs": [
        {
          "output_type": "display_data",
          "data": {
            "text/plain": [
              "<Figure size 800x600 with 1 Axes>"
            ],
            "image/png": "[encoded data removed]"
          },
          "metadata": {}
        }
      ]
    },
    {
      "cell_type": "code",
      "source": [
        "#17. Calculate the interquartile range (IQR) of a dataset.\n",
        "\n",
        "#Sol:\n",
        "data = {'Age': [25, 30, 22, 35, 28, 40, 48, 33],\n",
        "        'Salary': [50000, 60000, 45000, 70000, 55000, 80000, 90000, 65000],\n",
        "        'City': ['A', 'B', 'A', 'C', 'B', 'C', 'A', 'B']}\n",
        "df = pd.DataFrame(data)\n",
        "# Calculate IQR\n",
        "Q1 = df['Salary'].quantile(0.25)\n",
        "Q3 = df['Salary'].quantile(0.75)\n",
        "IQR = Q3 - Q1\n",
        "\n",
        "print(f\"Q1: {Q1}\")\n",
        "print(f\"Q3: {Q3}\")\n",
        "print(f\"IQR: {IQR}\")"
      ],
      "metadata": {
        "colab": {
          "base_uri": "https://localhost:8080/"
        },
        "id": "sN4P3mYQBcAv",
        "outputId": "2d461c1d-86d7-4ab6-b8d5-66e0a582b459"
      },
      "execution_count": 49,
      "outputs": [
        {
          "output_type": "stream",
          "name": "stdout",
          "text": [
            "Q1: 53750.0\n",
            "Q3: 72500.0\n",
            "IQR: 18750.0\n"
          ]
        }
      ]
    },
    {
      "cell_type": "code",
      "source": [
        "#18. Implement Z-score normalization and explain its significance.\n",
        "\n",
        "#Sol:\n",
        "\n",
        "from scipy.stats import zscore\n",
        "\n",
        "\n",
        "data = {'Age': [25, 30, 22, 35, 28, 40, 48, 33],\n",
        "        'Salary': [50000, 60000, 45000, 70000, 55000, 80000, 90000, 65000],\n",
        "        'City': ['A', 'B', 'A', 'C', 'B', 'C', 'A', 'B']}\n",
        "\n",
        "df = pd.DataFrame(data)\n",
        "\n",
        "# Implement Z-score normalization\n",
        "\n",
        "df['Salary_Z_Score'] = zscore(df['Salary'])\n",
        "\n",
        "print(df[['Salary', 'Salary_Z_Score']])"
      ],
      "metadata": {
        "colab": {
          "base_uri": "https://localhost:8080/"
        },
        "id": "jly1gvqnCBJZ",
        "outputId": "c9051dd3-a4ed-42b6-b0f0-7fdfadd76429"
      },
      "execution_count": 50,
      "outputs": [
        {
          "output_type": "stream",
          "name": "stdout",
          "text": [
            "   Salary  Salary_Z_Score\n",
            "0   50000       -1.009588\n",
            "1   60000       -0.307266\n",
            "2   45000       -1.360749\n",
            "3   70000        0.395056\n",
            "4   55000       -0.658427\n",
            "5   80000        1.097378\n",
            "6   90000        1.799700\n",
            "7   65000        0.043895\n"
          ]
        }
      ]
    },
    {
      "cell_type": "code",
      "source": [
        "#19. Compare two datasets using their standard deviations.\n",
        "\n",
        "#Sol:\n",
        "data2 = {'Salary': [52000, 58000, 47000, 68000, 53000, 82000, 88000, 63000]}\n",
        "df2 = pd.DataFrame(data2)\n",
        "\n",
        "# Calculate standard deviations\n",
        "std_dev1 = np.std(df['Salary'])\n",
        "std_dev2 = np.std(df2['Salary'])\n",
        "\n",
        "print(f\"Standard Deviation of Salary Dataset 1: {std_dev1}\")\n",
        "print(f\"Standard Deviation of Salary Dataset 2: {std_dev2}\")\n",
        "\n",
        "# Compare\n",
        "if std_dev1 > std_dev2:\n",
        "    print(\"Dataset 1 has a larger spread than Dataset 2.\")\n",
        "elif std_dev2 > std_dev1:\n",
        "    print(\"Dataset 2 has a larger spread than Dataset 1.\")\n",
        "else:\n",
        "    print(\"Both datasets have the same spread.\")"
      ],
      "metadata": {
        "colab": {
          "base_uri": "https://localhost:8080/"
        },
        "id": "17lwD1q8CTWl",
        "outputId": "acf0020c-cfac-4211-ad7c-fd3ee7c27215"
      },
      "execution_count": 51,
      "outputs": [
        {
          "output_type": "stream",
          "name": "stdout",
          "text": [
            "Standard Deviation of Salary Dataset 1: 14238.482187368147\n",
            "Standard Deviation of Salary Dataset 2: 13724.408001804668\n",
            "Dataset 1 has a larger spread than Dataset 2.\n"
          ]
        }
      ]
    },
    {
      "cell_type": "code",
      "source": [
        "#20. Write a Python program to visualize covariance using a heatmap.\n",
        "#Sol:\n",
        "data = {'Age': [25, 30, 22, 35, 28, 40, 48, 33],\n",
        "        'Salary': [50000, 60000, 45000, 70000, 55000, 80000, 90000, 65000],\n",
        "        'City': ['A', 'B', 'A', 'C', 'B', 'C', 'A', 'B']}\n",
        "\n",
        "df = pd.DataFrame(data)\n",
        "# Calculate the covariance matrix\n",
        "covariance_matrix = np.cov(df[['Age', 'Salary']].T) # Use .T to transpose\n",
        "\n",
        "# Visualize covariance using a heatmap\n",
        "plt.figure(figsize=(6, 5))\n",
        "sns.heatmap(covariance_matrix, annot=True, cmap='coolwarm',\n",
        "            xticklabels=['Age', 'Salary'], yticklabels=['Age', 'Salary'])\n",
        "plt.title('Covariance Heatmap')\n",
        "plt.show()"
      ],
      "metadata": {
        "colab": {
          "base_uri": "https://localhost:8080/",
          "height": 468
        },
        "id": "FyHfpbloCfDs",
        "outputId": "214f9880-130a-44d0-c7cd-14da2fcd0971"
      },
      "execution_count": 52,
      "outputs": [
        {
          "output_type": "display_data",
          "data": {
            "text/plain": [
              "<Figure size 600x500 with 2 Axes>"
            ],
            "image/png": "[encoded data removed]"
          },
          "metadata": {}
        }
      ]
    },
    {
      "cell_type": "code",
      "source": [
        "#21. Use seaborn to create a correlation matrix for a dataset.\n",
        "\n",
        "#Sol:\n",
        "import matplotlib.pyplot as plt\n",
        "import seaborn as sns\n",
        "data = {'Age': [25, 30, 22, 35, 28, 40, 48, 33],\n",
        "        'Salary': [50000, 60000, 45000, 70000, 55000, 80000, 90000, 65000],\n",
        "        'City': ['A', 'B', 'A', 'C', 'B', 'C', 'A', 'B']}\n",
        "\n",
        "df = pd.DataFrame(data)\n",
        "# Calculate the correlation matrix\n",
        "correlation_matrix = df[['Age', 'Salary']].corr()\n",
        "\n",
        "# Visualize the correlation matrix using seaborn\n",
        "plt.figure(figsize=(6, 5))\n",
        "sns.heatmap(correlation_matrix, annot=True, cmap='coolwarm')\n",
        "plt.title('Correlation Matrix')\n",
        "plt.show()"
      ],
      "metadata": {
        "colab": {
          "base_uri": "https://localhost:8080/",
          "height": 468
        },
        "id": "35arHDQgC0OV",
        "outputId": "db325117-0d00-4b6c-b8d3-4f9ab70ec321"
      },
      "execution_count": 54,
      "outputs": [
        {
          "output_type": "display_data",
          "data": {
            "text/plain": [
              "<Figure size 600x500 with 2 Axes>"
            ],
            "image/png": "[encoded data removed]"
          },
          "metadata": {}
        }
      ]
    },
    {
      "cell_type": "code",
      "source": [
        "#22. Generate a dataset and implement both variance and standard deviation computations.\n",
        "\n",
        "#Sol:\n",
        "import numpy as np\n",
        "# Generate a dataset\n",
        "data = np.array([1, 2, 3, 4, 5, 6, 7, 8, 9])\n",
        "\n",
        "# Calculate variance\n",
        "mean = np.mean(data)\n",
        "variance = np.mean((data - mean) ** 2)\n",
        "\n",
        "# Calculate standard deviation\n",
        "std_deviation = np.sqrt(variance)\n",
        "\n",
        "# Verify with numpy functions\n",
        "numpy_variance = np.var(data)\n",
        "numpy_std_dev = np.std(data)\n",
        "\n",
        "print(f\"Calculated Variance: {variance}\")\n",
        "print(f\"NumPy Variance: {numpy_variance}\")\n",
        "print(f\"Calculated Standard Deviation: {std_deviation}\")\n",
        "print(f\"NumPy Standard Deviation: {numpy_std_dev}\")"
      ],
      "metadata": {
        "colab": {
          "base_uri": "https://localhost:8080/"
        },
        "id": "ZmVFM1ELDh08",
        "outputId": "e01a7f1f-bf24-48d2-f3e4-abeeb7192824"
      },
      "execution_count": 56,
      "outputs": [
        {
          "output_type": "stream",
          "name": "stdout",
          "text": [
            "Calculated Variance: 6.666666666666667\n",
            "NumPy Variance: 6.666666666666667\n",
            "Calculated Standard Deviation: 2.581988897471611\n",
            "NumPy Standard Deviation: 2.581988897471611\n"
          ]
        }
      ]
    }
  ]
}